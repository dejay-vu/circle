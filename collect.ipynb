{
 "cells": [
  {
   "cell_type": "code",
   "execution_count": 4,
   "id": "0b3745e9",
   "metadata": {},
   "outputs": [],
   "source": [
    "from collections import deque\n",
    "\n",
    "import ale_py\n",
    "import cv2\n",
    "import gymnasium as gym\n",
    "import numpy as np\n",
    "import zarr\n",
    "import random\n",
    "\n",
    "gym.register_envs(ale_py)\n",
    "TOTAL_FRAMES = 50_000"
   ]
  },
  {
   "cell_type": "code",
   "execution_count": 5,
   "id": "8a462f5f",
   "metadata": {},
   "outputs": [],
   "source": [
    "def preprocess(rgb):\n",
    "    return (\n",
    "        cv2.resize(rgb, (84, 84), interpolation=cv2.INTER_AREA)\n",
    "        .transpose(2, 0, 1)\n",
    "        .astype(np.uint8)\n",
    "    )"
   ]
  },
  {
   "cell_type": "code",
   "execution_count": 6,
   "id": "2d0fba73",
   "metadata": {},
   "outputs": [
    {
     "name": "stdout",
     "output_type": "stream",
     "text": [
      "Collected 50000/50000 frames for MsPacman-v5v5-v5\r"
     ]
    }
   ],
   "source": [
    "root = zarr.open_group(store=\"dataset50k.zarr\")\n",
    "compressors = zarr.codecs.BloscCodec(\n",
    "    cname=\"zstd\", clevel=1, shuffle=zarr.codecs.BloscShuffle.bitshuffle\n",
    ")\n",
    "\n",
    "GAMES = [\n",
    "    \"ALE/SpaceInvaders-v5\",\n",
    "    \"ALE/Krull-v5\",\n",
    "    \"ALE/BeamRider-v5\",\n",
    "    \"ALE/Hero-v5\",\n",
    "    \"ALE/StarGunner-v5\",\n",
    "    \"ALE/MsPacman-v5\",\n",
    "]\n",
    "\n",
    "\n",
    "for game in GAMES:\n",
    "    game_dataset = root.create_group(\n",
    "        name=game.split(\"/\")[-1].replace(\"-v5\", \"\")\n",
    "    )\n",
    "\n",
    "    frames = game_dataset.create_array(\n",
    "        name=\"frames\",\n",
    "        shape=(TOTAL_FRAMES, 4, 3, 84, 84),\n",
    "        chunks=(32, 4, 3, 84, 84),  # 2.7 MB raw\n",
    "        shards=(4096, 4, 3, 84, 84),  # ≈115 MB compressed\n",
    "        dtype=np.uint8,\n",
    "        compressors=compressors,\n",
    "        overwrite=True,\n",
    "    )\n",
    "\n",
    "    actions = game_dataset.create_array(\n",
    "        name=\"actions\",\n",
    "        shape=(TOTAL_FRAMES,),\n",
    "        chunks=(32,),\n",
    "        shards=(4096,),\n",
    "        dtype=np.uint8,\n",
    "        compressors=compressors,\n",
    "        overwrite=True,\n",
    "    )\n",
    "\n",
    "    rewards = game_dataset.create_array(\n",
    "        name=\"rewards\",\n",
    "        shape=(TOTAL_FRAMES,),\n",
    "        chunks=(32,),\n",
    "        shards=(4096,),\n",
    "        dtype=np.float32,\n",
    "        compressors=compressors,\n",
    "        overwrite=True,\n",
    "    )\n",
    "\n",
    "    dones = game_dataset.create_array(\n",
    "        name=\"dones\",\n",
    "        shape=(TOTAL_FRAMES,),\n",
    "        chunks=(32,),\n",
    "        shards=(4096,),\n",
    "        dtype=np.bool_,\n",
    "        compressors=compressors,\n",
    "        overwrite=True,\n",
    "    )\n",
    "\n",
    "    frames_np = np.empty((TOTAL_FRAMES, 4, 3, 84, 84), dtype=np.uint8)\n",
    "    actions_np = np.empty((TOTAL_FRAMES,), dtype=np.uint8)\n",
    "    rewards_np = np.empty((TOTAL_FRAMES,), dtype=np.float32)\n",
    "    dones_np = np.empty((TOTAL_FRAMES,), dtype=np.bool_)\n",
    "\n",
    "    env = gym.make(game, frameskip=1)\n",
    "    obs, _ = env.reset(seed=0)\n",
    "\n",
    "    stack = deque([preprocess(obs)] * 4, maxlen=4)  # Initialize with 4 frames\n",
    "\n",
    "    i = 0\n",
    "    while i < TOTAL_FRAMES:\n",
    "        cumulative_reward = 0.0\n",
    "        terminated = False\n",
    "        truncated = False\n",
    "\n",
    "        action = env.action_space.sample()\n",
    "        for _ in range(4):  # repeat 4 frames for one action\n",
    "            obs, reward, terminated, truncated, _ = env.step(action)\n",
    "            cumulative_reward += reward\n",
    "            stack.append(preprocess(obs))\n",
    "\n",
    "            if terminated or truncated:\n",
    "                break\n",
    "\n",
    "        if len(stack) < 4:\n",
    "            obs, _ = env.reset()\n",
    "            stack = deque([preprocess(obs)] * 4, maxlen=4)\n",
    "            continue  # discard partial stack\n",
    "\n",
    "        frames_np[i] = np.stack(stack, axis=0)\n",
    "        actions_np[i] = action\n",
    "        rewards_np[i] = cumulative_reward\n",
    "        dones_np[i] = terminated or truncated\n",
    "        i += 1\n",
    "\n",
    "        if terminated or truncated:\n",
    "            obs, _ = env.reset()\n",
    "            stack = deque([preprocess(obs)] * 4, maxlen=4)\n",
    "\n",
    "        print(\n",
    "            f\"Collected {i}/{TOTAL_FRAMES} frames for {game.split('/')[-1]}\",\n",
    "            end=\"\\r\",\n",
    "        )\n",
    "\n",
    "    frames[:] = frames_np\n",
    "    actions[:] = actions_np\n",
    "    rewards[:] = rewards_np\n",
    "    dones[:] = dones_np\n",
    "\n",
    "    env.close()"
   ]
  },
  {
   "cell_type": "code",
   "execution_count": 16,
   "id": "4c39bddc",
   "metadata": {},
   "outputs": [],
   "source": [
    "import zarr, numpy as np\n",
    "\n",
    "root = zarr.open_group(\"dataset50k.zarr\", mode=\"r\")\n",
    "reward = root[\"Hero/rewards\"][:]"
   ]
  },
  {
   "cell_type": "code",
   "execution_count": 17,
   "id": "4c6f892d",
   "metadata": {},
   "outputs": [
    {
     "name": "stdout",
     "output_type": "stream",
     "text": [
      "Number of non-zero rewards: 781\n",
      "Ratio of non-zero rewards: 1.56%\n"
     ]
    }
   ],
   "source": [
    "# number of non-zero rewards\n",
    "reward_nonzero = reward[reward != 0]\n",
    "print(f\"Number of non-zero rewards: {len(reward_nonzero)}\")\n",
    "\n",
    "# ratio of non-zero rewards\n",
    "reward_ratio = len(reward_nonzero) / len(reward)\n",
    "print(f\"Ratio of non-zero rewards: {reward_ratio:.2%}\")"
   ]
  },
  {
   "cell_type": "code",
   "execution_count": 18,
   "id": "0e83c603",
   "metadata": {},
   "outputs": [
    {
     "data": {
      "image/png": "[encoded data removed]",
      "text/plain": [
       "<Figure size 640x480 with 1 Axes>"
      ]
     },
     "metadata": {},
     "output_type": "display_data"
    }
   ],
   "source": [
    "np.histogram(reward, bins=100)\n",
    "import matplotlib.pyplot as plt\n",
    "\n",
    "plt.hist(reward, bins=100)\n",
    "plt.title(\"Reward Distribution\")\n",
    "plt.xlabel(\"Reward\")\n",
    "plt.ylabel(\"Frequency\")\n",
    "plt.show()"
   ]
  }
 ],
 "metadata": {
  "kernelspec": {
   "display_name": "circle",
   "language": "python",
   "name": "python3"
  },
  "language_info": {
   "codemirror_mode": {
    "name": "ipython",
    "version": 3
   },
   "file_extension": ".py",
   "mimetype": "text/x-python",
   "name": "python",
   "nbconvert_exporter": "python",
   "pygments_lexer": "ipython3",
   "version": "3.11.13"
  }
 },
 "nbformat": 4,
 "nbformat_minor": 5
}
